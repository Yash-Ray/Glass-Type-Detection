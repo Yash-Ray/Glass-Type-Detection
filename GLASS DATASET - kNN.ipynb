{
 "cells": [
  {
   "cell_type": "code",
   "execution_count": 1,
   "metadata": {},
   "outputs": [
    {
     "name": "stdout",
     "output_type": "stream",
     "text": [
      "E:\\ADG\\Data_Set\\Glass\n"
     ]
    }
   ],
   "source": [
    "cd E:\\ADG\\Data_Set\\Glass"
   ]
  },
  {
   "cell_type": "code",
   "execution_count": 4,
   "metadata": {},
   "outputs": [
    {
     "data": {
      "text/html": [
       "<div>\n",
       "<style scoped>\n",
       "    .dataframe tbody tr th:only-of-type {\n",
       "        vertical-align: middle;\n",
       "    }\n",
       "\n",
       "    .dataframe tbody tr th {\n",
       "        vertical-align: top;\n",
       "    }\n",
       "\n",
       "    .dataframe thead th {\n",
       "        text-align: right;\n",
       "    }\n",
       "</style>\n",
       "<table border=\"1\" class=\"dataframe\">\n",
       "  <thead>\n",
       "    <tr style=\"text-align: right;\">\n",
       "      <th></th>\n",
       "      <th>RI</th>\n",
       "      <th>Na</th>\n",
       "      <th>Mg</th>\n",
       "      <th>Al</th>\n",
       "      <th>Si</th>\n",
       "      <th>K</th>\n",
       "      <th>Ca</th>\n",
       "      <th>Ba</th>\n",
       "      <th>Fe</th>\n",
       "      <th>Type</th>\n",
       "    </tr>\n",
       "  </thead>\n",
       "  <tbody>\n",
       "    <tr>\n",
       "      <th>0</th>\n",
       "      <td>1.52101</td>\n",
       "      <td>13.64</td>\n",
       "      <td>4.49</td>\n",
       "      <td>1.10</td>\n",
       "      <td>71.78</td>\n",
       "      <td>0.06</td>\n",
       "      <td>8.75</td>\n",
       "      <td>0.0</td>\n",
       "      <td>0.0</td>\n",
       "      <td>1</td>\n",
       "    </tr>\n",
       "    <tr>\n",
       "      <th>1</th>\n",
       "      <td>1.51761</td>\n",
       "      <td>13.89</td>\n",
       "      <td>3.60</td>\n",
       "      <td>1.36</td>\n",
       "      <td>72.73</td>\n",
       "      <td>0.48</td>\n",
       "      <td>7.83</td>\n",
       "      <td>0.0</td>\n",
       "      <td>0.0</td>\n",
       "      <td>1</td>\n",
       "    </tr>\n",
       "    <tr>\n",
       "      <th>2</th>\n",
       "      <td>1.51618</td>\n",
       "      <td>13.53</td>\n",
       "      <td>3.55</td>\n",
       "      <td>1.54</td>\n",
       "      <td>72.99</td>\n",
       "      <td>0.39</td>\n",
       "      <td>7.78</td>\n",
       "      <td>0.0</td>\n",
       "      <td>0.0</td>\n",
       "      <td>1</td>\n",
       "    </tr>\n",
       "    <tr>\n",
       "      <th>3</th>\n",
       "      <td>1.51766</td>\n",
       "      <td>13.21</td>\n",
       "      <td>3.69</td>\n",
       "      <td>1.29</td>\n",
       "      <td>72.61</td>\n",
       "      <td>0.57</td>\n",
       "      <td>8.22</td>\n",
       "      <td>0.0</td>\n",
       "      <td>0.0</td>\n",
       "      <td>1</td>\n",
       "    </tr>\n",
       "    <tr>\n",
       "      <th>4</th>\n",
       "      <td>1.51742</td>\n",
       "      <td>13.27</td>\n",
       "      <td>3.62</td>\n",
       "      <td>1.24</td>\n",
       "      <td>73.08</td>\n",
       "      <td>0.55</td>\n",
       "      <td>8.07</td>\n",
       "      <td>0.0</td>\n",
       "      <td>0.0</td>\n",
       "      <td>1</td>\n",
       "    </tr>\n",
       "  </tbody>\n",
       "</table>\n",
       "</div>"
      ],
      "text/plain": [
       "        RI     Na    Mg    Al     Si     K    Ca   Ba   Fe  Type\n",
       "0  1.52101  13.64  4.49  1.10  71.78  0.06  8.75  0.0  0.0     1\n",
       "1  1.51761  13.89  3.60  1.36  72.73  0.48  7.83  0.0  0.0     1\n",
       "2  1.51618  13.53  3.55  1.54  72.99  0.39  7.78  0.0  0.0     1\n",
       "3  1.51766  13.21  3.69  1.29  72.61  0.57  8.22  0.0  0.0     1\n",
       "4  1.51742  13.27  3.62  1.24  73.08  0.55  8.07  0.0  0.0     1"
      ]
     },
     "execution_count": 4,
     "metadata": {},
     "output_type": "execute_result"
    }
   ],
   "source": [
    "import pandas as pd\n",
    "import numpy as np\n",
    "\n",
    "data = pd.read_csv('datasets_738_1370_glass.csv')\n",
    "data.head()\n",
    "\n",
    "\n"
   ]
  },
  {
   "cell_type": "code",
   "execution_count": 5,
   "metadata": {
    "scrolled": true
   },
   "outputs": [
    {
     "data": {
      "text/plain": [
       "RI      False\n",
       "Na      False\n",
       "Mg      False\n",
       "Al      False\n",
       "Si      False\n",
       "K       False\n",
       "Ca      False\n",
       "Ba      False\n",
       "Fe      False\n",
       "Type    False\n",
       "dtype: bool"
      ]
     },
     "execution_count": 5,
     "metadata": {},
     "output_type": "execute_result"
    }
   ],
   "source": [
    "data.isnull().any()"
   ]
  },
  {
   "cell_type": "code",
   "execution_count": 6,
   "metadata": {},
   "outputs": [
    {
     "name": "stdout",
     "output_type": "stream",
     "text": [
      "<class 'pandas.core.frame.DataFrame'>\n",
      "RangeIndex: 214 entries, 0 to 213\n",
      "Data columns (total 10 columns):\n",
      "RI      214 non-null float64\n",
      "Na      214 non-null float64\n",
      "Mg      214 non-null float64\n",
      "Al      214 non-null float64\n",
      "Si      214 non-null float64\n",
      "K       214 non-null float64\n",
      "Ca      214 non-null float64\n",
      "Ba      214 non-null float64\n",
      "Fe      214 non-null float64\n",
      "Type    214 non-null int64\n",
      "dtypes: float64(9), int64(1)\n",
      "memory usage: 16.8 KB\n"
     ]
    }
   ],
   "source": [
    "data.info()"
   ]
  },
  {
   "cell_type": "code",
   "execution_count": 7,
   "metadata": {},
   "outputs": [
    {
     "name": "stdout",
     "output_type": "stream",
     "text": [
      "<class 'pandas.core.frame.DataFrame'>\n",
      "RangeIndex: 214 entries, 0 to 213\n",
      "Data columns (total 10 columns):\n",
      "RI      214 non-null float64\n",
      "Na      214 non-null float64\n",
      "Mg      214 non-null float64\n",
      "Al      214 non-null float64\n",
      "Si      214 non-null float64\n",
      "K       214 non-null float64\n",
      "Ca      214 non-null float64\n",
      "Ba      214 non-null float64\n",
      "Fe      214 non-null float64\n",
      "Type    214 non-null category\n",
      "dtypes: category(1), float64(9)\n",
      "memory usage: 15.5 KB\n"
     ]
    }
   ],
   "source": [
    "data['Type'] = data['Type'].astype('category')\n",
    "data.info()"
   ]
  },
  {
   "cell_type": "code",
   "execution_count": 9,
   "metadata": {},
   "outputs": [],
   "source": [
    "Y = data['Type']\n",
    "X = data.drop(['Type'], axis = 1)"
   ]
  },
  {
   "cell_type": "code",
   "execution_count": 18,
   "metadata": {},
   "outputs": [],
   "source": [
    "from sklearn.decomposition import PCA\n",
    "pca = PCA(n_components=2)\n",
    "principal_components = pca.fit_transform(X)\n",
    "new_data= pd.DataFrame(data = principal_components, columns = ['principal component 1', 'principal component 2'])"
   ]
  },
  {
   "cell_type": "code",
   "execution_count": 27,
   "metadata": {
    "collapsed": true
   },
   "outputs": [
    {
     "name": "stdout",
     "output_type": "stream",
     "text": [
      "[(1, -1.4314246907862773, -1.1021149921502869), (1, -1.436706786788268, 0.3435852707849094), (1, -1.4273218143426567, 0.34572009575368223), (1, -1.2578248109173435, -0.24905989230750686), (1, -1.3124663880288219, -0.01840450811678138), (1, -1.3018675145796048, -0.1224048010059147), (1, -1.2365698445345046, -0.07808039143563132), (1, -1.203348821444617, -0.18172151678551896), (1, -1.100992021692619, 0.009137371980510015), (1, -1.0735555194740003, -0.30491532679097766), (1, -1.1878688452003385, -0.04863578071351293), (1, -1.0184336201442628, -0.5303867096439085), (1, -1.2001925559233855, 0.03232148121954553), (1, -1.0640763395678112, -0.3114075194270881), (1, -1.0105746760146965, -0.4685182024242599), (1, -1.049043957276171, -0.3241782862086372), (1, -0.9392257012781767, -0.6780396616379053), (1, -0.69762824521147, -0.8406504290935888), (1, -0.7808101908632954, -0.5853487258612572), (1, -0.9830035255832457, -0.25651502703602186), (1, -0.9486185955940843, -0.44094365816875963), (1, -0.7436427639874609, -0.5699887364569795), (1, -0.8912732324051152, -0.6415434587358312), (1, -0.9306900430609923, -0.47130098400478626), (1, -0.9775300015867862, -0.20451946554525807), (1, -0.9555238447661197, -0.38721534539302405), (1, -0.9593803741211007, -0.22557157258049004), (1, -0.9696697008320908, -0.3073467063591214), (1, -0.9261783517227492, -0.47226389791386475), (1, -0.9365722882004656, -0.3097597881941445), (1, -0.8601063793600199, -0.5960353564737232), (1, -0.9136641565733629, -0.40871747429674965), (1, -0.8825942079402275, -0.41335037599506563), (1, -0.8894933924897994, -0.41154248708362307), (1, -0.7983005616748857, -0.6229078038369994), (1, -0.848822383182014, -0.29918794584888236), (1, -0.7290548565053756, -0.3655057778498418), (1, -0.8067091571400034, -0.5154171582422054), (1, -0.4125037954727456, -1.176491397280999), (1, -0.4125037954727456, -1.176491397280999), (1, -0.7703398071825883, -0.6077903544326665), (1, -0.7958794538106715, -0.4675636465255806), (1, -0.7901377495678443, -0.27278887331113727), (1, -0.3127340989428362, -1.4146195245802653), (1, -0.7218243211565255, -0.5920576444194583), (1, -0.56145306184496, -0.6190502604901054), (1, -0.6178082146767253, -0.4692709151782539), (1, -0.13972948404566105, -1.3409683564599706), (1, -0.07611268421446721, -1.6980567194282061), (1, -0.5367144127045764, -0.4587324045394796), (1, -0.011807965504553384, -1.6180840361184439), (1, -0.37297595072392276, -0.6747816156010251), (1, -0.1150007354732251, -0.19888955079302512), (1, -0.0670077166832919, -0.29768214621204153), (1, -0.07540147822958165, -0.2004808755641509), (1, 0.0017258216579182483, -0.33151047883067136), (1, -1.0284416714589713, -0.26969044320042085), (1, -0.9739658818553159, -0.33101716343323717), (1, -1.4285491169131461, -0.006588449033243838), (1, -1.2049513474069034, -0.184614547870877), (1, -0.8082686320903021, -0.47396271412330004), (1, -0.7658200444833715, -0.2850279930713077), (1, -0.46435978253027294, -1.3382498758873975), (1, -0.2981715011654817, -1.2737191042111433), (1, -0.3273541103269311, -1.2848612068651672), (1, -0.3403764370093175, -0.9510719460275939), (1, -0.11021003132089599, -1.5231291331474845), (1, -0.11097941280051274, -1.5037198840556243), (1, -0.08034964844574914, -1.4304937152747448), (1, 0.16724093756559957, -1.6412837165447935), (2, -1.7406926536631688, 0.8784700600436671), (2, -1.3059657498123767, -0.37682253350824657), (2, -1.4535827535562482, 0.1629361003059732), (2, -1.3852318906779748, 0.19856361715117163), (2, -1.3885726886547853, 0.12045010282204707), (2, -1.3613753009118394, 0.06364659941690144), (2, -1.3189075618935029, 0.03464138414601982), (2, -1.2974485044150261, -0.05049561729168057), (2, -1.3010394524164755, 0.31802648424648766), (2, -1.2945398760735327, 0.06078674574136534), (2, -1.2821183522331128, 0.09486508354865375), (2, -1.3291448683637264, 0.2683303167252425), (2, -1.2466687293646472, 0.020621339353369583), (2, -1.2509405006967778, 0.027921866015502), (2, -1.5830809875898086, 1.3900534670731806), (2, -1.1646214829714487, -0.06267613033696458), (2, -1.2234359907106906, 0.1397783806424898), (2, -1.2024070953002526, 0.09766644152453573), (2, -1.1874739020055811, -0.0573245583913689), (2, -1.1949308709766242, -0.03669820834494974), (2, -0.8069238105061859, -0.9513196607078068), (2, -1.0341524591460205, -0.15249948882605194), (2, -0.8934246066007543, -0.0916162670476203), (2, -0.9853893375854419, 0.07598242072826568), (2, -0.9960998342339867, -0.07309993619496744), (2, -0.7949447288363778, -0.32032806195152613), (2, -0.6058393187362336, -0.95522654019651), (2, -0.5116179328399075, -0.6823146353888075), (2, -0.46125446104424267, 0.019890890108774695), (2, -0.3340716977122326, -0.17304829250803516), (2, -0.26007036187844157, -0.1400507059473163), (2, 0.11926535829046941, -0.5361902988915964), (2, 0.20744396881832416, -0.6317378843637035), (2, 1.4926093400085976, -2.439628075535529), (2, 1.1154161612674238, -1.5230982361876528), (2, 4.805948316901427, -1.952644976258025), (2, 5.1213468851110955, -2.000493655487805), (2, 6.85461433885868, -4.1247682892320325), (2, 3.6991266116988526, 0.09257349212900788), (2, 3.300328811454343, 0.35885222331777217), (2, 5.784872545349155, -3.0961986119364977), (2, 5.971650221752205, -3.3830389775086966), (2, 5.6186577653538, -2.611837426326479), (2, -1.3624111194764361, -0.24098288419748862), (2, -1.3252457409446472, -0.6302603066143201), (2, -1.3499758330194642, -0.3554325178149705), (2, -1.3387021509371422, -0.43368281743198395), (2, -1.4500714329831117, 0.20455881268136317), (2, -1.3435186178843315, -0.0188033910635566), (2, -1.337616305130745, 0.1388399123942232), (2, -1.1696174627765084, -0.42642360928371464), (2, -1.2759649907485007, -0.004993320976390044), (2, -1.2226986686495684, 0.00716461529422766), (2, -1.24133416303117, 0.21093984141173655), (2, -1.0520547924013253, -0.44482056362700323), (2, -1.0040296570468858, -0.4984505147944179), (2, -0.9479844058251631, -0.529275547134639), (2, 0.8978022855185597, -0.3565684460908991), (2, 0.8681305031541546, -0.008919494144915401), (2, 2.075619190248793, -0.21306870987208265), (2, 2.7006189313671345, -0.4674931530112062), (2, 5.01225693996083, -1.5580268768260892), (2, -1.51639787175072, -0.3263645235719008), (2, -1.4094307855559964, -0.2700228699791884), (2, -1.438735822471853, -0.20896980426732867), (2, -1.2561344292859256, -0.5652899386292563), (2, -1.2446526324861584, -0.45934592754846204), (2, -1.2803138162597367, -0.12626014527284532), (2, -1.360811476396474, 0.09274104191423226), (2, -1.320090169950982, 0.029563049370269576), (2, -1.2152557803588713, 0.028757825045556466), (2, -1.090298182724446, -0.3346226635124282), (2, -1.1269370731854882, -0.16394281478941197), (2, -1.1141886399663319, -0.028551361831988968), (2, -0.49769610337893383, -0.37235237662641774), (2, -0.9424968768621436, -0.6868493341250319), (3, -0.943752804463065, -0.35494963819523145), (3, -1.0625856696698355, -0.15860404182578713), (3, -1.0165947323963327, -0.26956050686613614), (3, -0.9415730391248492, -0.6967850761015811), (3, -0.9560488293732875, -0.14863328591486813), (3, -0.49548751745098246, -1.0973716989016387), (3, -0.7315466326374138, -0.6366431894931133), (3, -0.9818392955386683, -0.07001262779195147), (3, -0.7990362216862146, -0.6711054934504594), (3, -0.8067783420520451, -0.3167092895443946), (3, -0.741816129221074, -0.2735319538503735), (3, -0.31287268238855653, -1.2326741352584858), (3, -0.6480258873669066, -0.370984676327362), (3, -0.5920395536887025, -0.36161646787224766), (3, -0.46315412178385473, -0.5135668667098071), (3, -0.6679880281233463, -0.5544030422133668), (3, -0.6617165828461363, -0.8569926574601873), (5, -1.906324613208937, 2.718919725974767), (5, 1.3597267502844652, -0.42836481516481906), (5, 2.2100802409412004, -1.7834838656653076), (5, 2.4536054728390218, -1.9080451943746128), (5, 3.674871899308522, -0.2191569432425758), (5, 2.7153253190460807, 0.8404097163867982), (5, 3.5465632838590917, 0.0596675941185662), (5, 4.184486734080515, -0.6593094482324687), (5, 0.20757325204190857, 3.08124317087342), (5, 0.18421795409550856, 3.129292415895079), (5, 4.350821388837793, -0.883311035973466), (5, 1.2948847910879218, 0.03330014045843488), (5, 3.2812021054573304, -0.24318171131097813), (6, 0.6730446320631869, -0.09650029929504388), (6, 0.7707557555280595, -0.33452922496294324), (6, 0.5814885543652726, 0.3770613880313884), (6, 0.6516975357847359, 0.2862954669503297), (6, -0.21331184889124963, 2.0550706924119773), (6, 2.120620797330003, 1.0100896247151707), (6, 3.317016865378906, 0.6623015720756041), (6, 3.4785969370166065, 0.3637234844097505), (6, 0.39581445598636517, 4.624430726577156), (7, -2.7713200607938857, 2.492117425554538), (7, -2.4710572981175827, 2.359297474542779), (7, -0.5893562011716915, -0.4005359177213578), (7, 0.9342932918119423, 0.03125585772035606), (7, 0.5638511022409843, 1.4799969836833056), (7, 0.5636588245192136, 1.1130769110105259), (7, 1.946304914043332, 2.5703529369333493), (7, 2.1215801317149383, 2.2300148978448613), (7, 1.8451727136732916, 2.7360302547005726), (7, 1.8305622416205831, 2.7093516120307366), (7, 2.1492418974215557, 2.197296451112865), (7, 2.380970202809265, 1.864252060078776), (7, 2.072460779836553, 2.388981575818573), (7, 2.1668590242746384, 2.2287696947464446), (7, 1.9920331765559118, 2.562109689285427), (7, 1.6574291249606117, 2.957344165471514), (7, 1.6815058534157, 1.5085249402802487), (7, 1.6870868584717358, 2.8779236922529887), (7, 1.6840388995066145, 2.9532002947324365), (7, 1.9110001735881579, 2.624695001050925), (7, 1.8908321387574503, 2.701261607721385), (7, 1.9207814368278078, 2.663678757342388), (7, 0.41952621319078026, 4.221379577582592), (7, 2.4193136451665103, 1.9422685011986829), (7, 2.273595509628599, 2.131266082869744), (7, 1.758893875404084, 2.8905185926234407), (7, 1.7788783515762554, 2.7313329667469657), (7, 1.7958939743601405, 2.715168391254284), (7, 1.9045173441528673, 2.5790754905797524)]\n"
     ]
    }
   ],
   "source": [
    "p1 = new_data['principal component 1']\n",
    "p2 = new_data['principal component 2']\n",
    "l1 = []\n",
    "for i in range(len(p1)):\n",
    "    l1.append((Y[i], p1[i], p2[i]))\n",
    "    \n",
    "print(l1)"
   ]
  },
  {
   "cell_type": "code",
   "execution_count": 55,
   "metadata": {},
   "outputs": [
    {
     "data": {
      "image/png": "[encoded data removed]",
      "text/plain": [
       "<Figure size 432x288 with 1 Axes>"
      ]
     },
     "metadata": {},
     "output_type": "display_data"
    }
   ],
   "source": [
    "import matplotlib.pyplot as plt\n",
    "for i in l1:\n",
    "    if i[0] == 1:\n",
    "        plt.scatter(i[1], i[2], label = i[0])\n",
    "    if i[0] == 2:\n",
    "        plt.scatter(i[1], i[2], label = i[0])\n",
    "    if i[0] == 3:\n",
    "        plt.scatter(i[1], i[2], label = i[0])\n",
    "    if i[0] == 4:\n",
    "        plt.scatter(i[1], i[2], label = i[0])\n",
    "    if i[0] == 5:\n",
    "        plt.scatter(i[1], i[2], label = i[0])\n",
    "    if i[0] == 6:\n",
    "        plt.scatter(i[1], i[2], label = i[0])\n",
    "    if i[0] == 7:\n",
    "        plt.scatter(i[1], i[2], label = i[0])\n",
    "        \n",
    "plt.show()"
   ]
  },
  {
   "cell_type": "code",
   "execution_count": 56,
   "metadata": {},
   "outputs": [],
   "source": [
    "from sklearn.model_selection import train_test_split\n",
    "x_train, x_test, y_train, y_test = train_test_split(new_data, Y, test_size = 0.3, random_state = 0)"
   ]
  },
  {
   "cell_type": "code",
   "execution_count": 109,
   "metadata": {},
   "outputs": [
    {
     "name": "stdout",
     "output_type": "stream",
     "text": [
      "[7, 1, 1, 2, 5, 2, 1, 1, 2, 2, 1, 3, 1, 2, 2, 7, 1, 2, 2, 3, 6, 1, 7, 7, 1, 1, 7, 1, 2, 2, 1, 1, 2, 1, 2, 1, 1, 1, 1, 7, 2, 5, 2, 3, 2, 2, 1, 2, 3, 2, 2, 5, 7, 1, 2, 1, 1, 1, 3, 2, 1, 2, 1, 2, 1]\n"
     ]
    }
   ],
   "source": [
    "def euclidian_dist(a, b, c, d):\n",
    "    dist = 0\n",
    "    dist = ((a - c)**2 + (b - d)**2)**(1/2)\n",
    "    return dist\n",
    "    \n",
    "c1 = x_test['principal component 1']\n",
    "c2 = x_test['principal component 2']\n",
    "c1_train = x_train['principal component 1']\n",
    "c2_train = x_train['principal component 2']\n",
    "l = []\n",
    "ll = []\n",
    "y_pred = []\n",
    "d = 0\n",
    "\n",
    "for i in range(len(c1)):\n",
    "    for j in range(len(c1_train)):\n",
    "        d = euclidian_dist(c1[i], c2[i], c1_train[j], c2_train[j])\n",
    "        l.append((d, c1_train[j], c2_train[j]))\n",
    "    for k in l:\n",
    "        ll.append(k[0])\n",
    "    m = min(ll)\n",
    "    for k in l:\n",
    "        if k[0] == m:\n",
    "            x_co = k[1]\n",
    "            y_co = k[2]\n",
    "            break\n",
    "            \n",
    "    for k in l1:\n",
    "        if k[1] == x_co and k[2] == y_co:\n",
    "            y_pred.append(k[0])\n",
    "            break\n",
    "            \n",
    "    l = []\n",
    "    ll = []\n",
    "    \n",
    "print(y_pred)"
   ]
  },
  {
   "cell_type": "code",
   "execution_count": 120,
   "metadata": {},
   "outputs": [],
   "source": [
    "a = y_test.tolist()"
   ]
  },
  {
   "cell_type": "code",
   "execution_count": 122,
   "metadata": {},
   "outputs": [
    {
     "name": "stdout",
     "output_type": "stream",
     "text": [
      "Accuracy using KNN is  0.6\n"
     ]
    }
   ],
   "source": [
    "from sklearn.metrics import accuracy_score\n",
    "acc = accuracy_score(y_pred, a)\n",
    "\n",
    "print(\"Accuracy using KNN is \", acc)"
   ]
  }
 ],
 "metadata": {
  "kernelspec": {
   "display_name": "Python 3",
   "language": "python",
   "name": "python3"
  },
  "language_info": {
   "codemirror_mode": {
    "name": "ipython",
    "version": 3
   },
   "file_extension": ".py",
   "mimetype": "text/x-python",
   "name": "python",
   "nbconvert_exporter": "python",
   "pygments_lexer": "ipython3",
   "version": "3.6.5"
  }
 },
 "nbformat": 4,
 "nbformat_minor": 2
}
